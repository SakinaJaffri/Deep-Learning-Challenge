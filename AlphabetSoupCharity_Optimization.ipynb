{
  "nbformat": 4,
  "nbformat_minor": 0,
  "metadata": {
    "colab": {
      "provenance": []
    },
    "kernelspec": {
      "name": "python3",
      "display_name": "Python 3"
    },
    "language_info": {
      "name": "python"
    }
  },
  "cells": [
    {
      "cell_type": "code",
      "execution_count": 1,
      "metadata": {
        "colab": {
          "base_uri": "https://localhost:8080/",
          "height": 206
        },
        "id": "zKTjzos7OCIC",
        "outputId": "717ce230-c15c-4843-ab68-49e7225e55e1"
      },
      "outputs": [
        {
          "output_type": "execute_result",
          "data": {
            "text/plain": [
              "        EIN                                      NAME APPLICATION_TYPE  \\\n",
              "0  10520599              BLUE KNIGHTS MOTORCYCLE CLUB              T10   \n",
              "1  10531628    AMERICAN CHESAPEAKE CLUB CHARITABLE TR               T3   \n",
              "2  10547893        ST CLOUD PROFESSIONAL FIREFIGHTERS               T5   \n",
              "3  10553066            SOUTHSIDE ATHLETIC ASSOCIATION               T3   \n",
              "4  10556103  GENETIC RESEARCH INSTITUTE OF THE DESERT               T3   \n",
              "\n",
              "        AFFILIATION CLASSIFICATION      USE_CASE  ORGANIZATION  STATUS  \\\n",
              "0       Independent          C1000    ProductDev   Association       1   \n",
              "1       Independent          C2000  Preservation  Co-operative       1   \n",
              "2  CompanySponsored          C3000    ProductDev   Association       1   \n",
              "3  CompanySponsored          C2000  Preservation         Trust       1   \n",
              "4       Independent          C1000     Heathcare         Trust       1   \n",
              "\n",
              "      INCOME_AMT SPECIAL_CONSIDERATIONS  ASK_AMT  IS_SUCCESSFUL  \n",
              "0              0                      N     5000              1  \n",
              "1         1-9999                      N   108590              1  \n",
              "2              0                      N     5000              0  \n",
              "3    10000-24999                      N     6692              1  \n",
              "4  100000-499999                      N   142590              1  "
            ],
            "text/html": [
              "\n",
              "  <div id=\"df-085eb946-8498-4879-b197-2bdf8b7a0da2\" class=\"colab-df-container\">\n",
              "    <div>\n",
              "<style scoped>\n",
              "    .dataframe tbody tr th:only-of-type {\n",
              "        vertical-align: middle;\n",
              "    }\n",
              "\n",
              "    .dataframe tbody tr th {\n",
              "        vertical-align: top;\n",
              "    }\n",
              "\n",
              "    .dataframe thead th {\n",
              "        text-align: right;\n",
              "    }\n",
              "</style>\n",
              "<table border=\"1\" class=\"dataframe\">\n",
              "  <thead>\n",
              "    <tr style=\"text-align: right;\">\n",
              "      <th></th>\n",
              "      <th>EIN</th>\n",
              "      <th>NAME</th>\n",
              "      <th>APPLICATION_TYPE</th>\n",
              "      <th>AFFILIATION</th>\n",
              "      <th>CLASSIFICATION</th>\n",
              "      <th>USE_CASE</th>\n",
              "      <th>ORGANIZATION</th>\n",
              "      <th>STATUS</th>\n",
              "      <th>INCOME_AMT</th>\n",
              "      <th>SPECIAL_CONSIDERATIONS</th>\n",
              "      <th>ASK_AMT</th>\n",
              "      <th>IS_SUCCESSFUL</th>\n",
              "    </tr>\n",
              "  </thead>\n",
              "  <tbody>\n",
              "    <tr>\n",
              "      <th>0</th>\n",
              "      <td>10520599</td>\n",
              "      <td>BLUE KNIGHTS MOTORCYCLE CLUB</td>\n",
              "      <td>T10</td>\n",
              "      <td>Independent</td>\n",
              "      <td>C1000</td>\n",
              "      <td>ProductDev</td>\n",
              "      <td>Association</td>\n",
              "      <td>1</td>\n",
              "      <td>0</td>\n",
              "      <td>N</td>\n",
              "      <td>5000</td>\n",
              "      <td>1</td>\n",
              "    </tr>\n",
              "    <tr>\n",
              "      <th>1</th>\n",
              "      <td>10531628</td>\n",
              "      <td>AMERICAN CHESAPEAKE CLUB CHARITABLE TR</td>\n",
              "      <td>T3</td>\n",
              "      <td>Independent</td>\n",
              "      <td>C2000</td>\n",
              "      <td>Preservation</td>\n",
              "      <td>Co-operative</td>\n",
              "      <td>1</td>\n",
              "      <td>1-9999</td>\n",
              "      <td>N</td>\n",
              "      <td>108590</td>\n",
              "      <td>1</td>\n",
              "    </tr>\n",
              "    <tr>\n",
              "      <th>2</th>\n",
              "      <td>10547893</td>\n",
              "      <td>ST CLOUD PROFESSIONAL FIREFIGHTERS</td>\n",
              "      <td>T5</td>\n",
              "      <td>CompanySponsored</td>\n",
              "      <td>C3000</td>\n",
              "      <td>ProductDev</td>\n",
              "      <td>Association</td>\n",
              "      <td>1</td>\n",
              "      <td>0</td>\n",
              "      <td>N</td>\n",
              "      <td>5000</td>\n",
              "      <td>0</td>\n",
              "    </tr>\n",
              "    <tr>\n",
              "      <th>3</th>\n",
              "      <td>10553066</td>\n",
              "      <td>SOUTHSIDE ATHLETIC ASSOCIATION</td>\n",
              "      <td>T3</td>\n",
              "      <td>CompanySponsored</td>\n",
              "      <td>C2000</td>\n",
              "      <td>Preservation</td>\n",
              "      <td>Trust</td>\n",
              "      <td>1</td>\n",
              "      <td>10000-24999</td>\n",
              "      <td>N</td>\n",
              "      <td>6692</td>\n",
              "      <td>1</td>\n",
              "    </tr>\n",
              "    <tr>\n",
              "      <th>4</th>\n",
              "      <td>10556103</td>\n",
              "      <td>GENETIC RESEARCH INSTITUTE OF THE DESERT</td>\n",
              "      <td>T3</td>\n",
              "      <td>Independent</td>\n",
              "      <td>C1000</td>\n",
              "      <td>Heathcare</td>\n",
              "      <td>Trust</td>\n",
              "      <td>1</td>\n",
              "      <td>100000-499999</td>\n",
              "      <td>N</td>\n",
              "      <td>142590</td>\n",
              "      <td>1</td>\n",
              "    </tr>\n",
              "  </tbody>\n",
              "</table>\n",
              "</div>\n",
              "    <div class=\"colab-df-buttons\">\n",
              "\n",
              "  <div class=\"colab-df-container\">\n",
              "    <button class=\"colab-df-convert\" onclick=\"convertToInteractive('df-085eb946-8498-4879-b197-2bdf8b7a0da2')\"\n",
              "            title=\"Convert this dataframe to an interactive table.\"\n",
              "            style=\"display:none;\">\n",
              "\n",
              "  <svg xmlns=\"http://www.w3.org/2000/svg\" height=\"24px\" viewBox=\"0 -960 960 960\">\n",
              "    <path d=\"M120-120v-720h720v720H120Zm60-500h600v-160H180v160Zm220 220h160v-160H400v160Zm0 220h160v-160H400v160ZM180-400h160v-160H180v160Zm440 0h160v-160H620v160ZM180-180h160v-160H180v160Zm440 0h160v-160H620v160Z\"/>\n",
              "  </svg>\n",
              "    </button>\n",
              "\n",
              "  <style>\n",
              "    .colab-df-container {\n",
              "      display:flex;\n",
              "      gap: 12px;\n",
              "    }\n",
              "\n",
              "    .colab-df-convert {\n",
              "      background-color: #E8F0FE;\n",
              "      border: none;\n",
              "      border-radius: 50%;\n",
              "      cursor: pointer;\n",
              "      display: none;\n",
              "      fill: #1967D2;\n",
              "      height: 32px;\n",
              "      padding: 0 0 0 0;\n",
              "      width: 32px;\n",
              "    }\n",
              "\n",
              "    .colab-df-convert:hover {\n",
              "      background-color: #E2EBFA;\n",
              "      box-shadow: 0px 1px 2px rgba(60, 64, 67, 0.3), 0px 1px 3px 1px rgba(60, 64, 67, 0.15);\n",
              "      fill: #174EA6;\n",
              "    }\n",
              "\n",
              "    .colab-df-buttons div {\n",
              "      margin-bottom: 4px;\n",
              "    }\n",
              "\n",
              "    [theme=dark] .colab-df-convert {\n",
              "      background-color: #3B4455;\n",
              "      fill: #D2E3FC;\n",
              "    }\n",
              "\n",
              "    [theme=dark] .colab-df-convert:hover {\n",
              "      background-color: #434B5C;\n",
              "      box-shadow: 0px 1px 3px 1px rgba(0, 0, 0, 0.15);\n",
              "      filter: drop-shadow(0px 1px 2px rgba(0, 0, 0, 0.3));\n",
              "      fill: #FFFFFF;\n",
              "    }\n",
              "  </style>\n",
              "\n",
              "    <script>\n",
              "      const buttonEl =\n",
              "        document.querySelector('#df-085eb946-8498-4879-b197-2bdf8b7a0da2 button.colab-df-convert');\n",
              "      buttonEl.style.display =\n",
              "        google.colab.kernel.accessAllowed ? 'block' : 'none';\n",
              "\n",
              "      async function convertToInteractive(key) {\n",
              "        const element = document.querySelector('#df-085eb946-8498-4879-b197-2bdf8b7a0da2');\n",
              "        const dataTable =\n",
              "          await google.colab.kernel.invokeFunction('convertToInteractive',\n",
              "                                                    [key], {});\n",
              "        if (!dataTable) return;\n",
              "\n",
              "        const docLinkHtml = 'Like what you see? Visit the ' +\n",
              "          '<a target=\"_blank\" href=https://colab.research.google.com/notebooks/data_table.ipynb>data table notebook</a>'\n",
              "          + ' to learn more about interactive tables.';\n",
              "        element.innerHTML = '';\n",
              "        dataTable['output_type'] = 'display_data';\n",
              "        await google.colab.output.renderOutput(dataTable, element);\n",
              "        const docLink = document.createElement('div');\n",
              "        docLink.innerHTML = docLinkHtml;\n",
              "        element.appendChild(docLink);\n",
              "      }\n",
              "    </script>\n",
              "  </div>\n",
              "\n",
              "\n",
              "<div id=\"df-903905f5-0a88-4ffb-aa8e-e5f82a700360\">\n",
              "  <button class=\"colab-df-quickchart\" onclick=\"quickchart('df-903905f5-0a88-4ffb-aa8e-e5f82a700360')\"\n",
              "            title=\"Suggest charts\"\n",
              "            style=\"display:none;\">\n",
              "\n",
              "<svg xmlns=\"http://www.w3.org/2000/svg\" height=\"24px\"viewBox=\"0 0 24 24\"\n",
              "     width=\"24px\">\n",
              "    <g>\n",
              "        <path d=\"M19 3H5c-1.1 0-2 .9-2 2v14c0 1.1.9 2 2 2h14c1.1 0 2-.9 2-2V5c0-1.1-.9-2-2-2zM9 17H7v-7h2v7zm4 0h-2V7h2v10zm4 0h-2v-4h2v4z\"/>\n",
              "    </g>\n",
              "</svg>\n",
              "  </button>\n",
              "\n",
              "<style>\n",
              "  .colab-df-quickchart {\n",
              "      --bg-color: #E8F0FE;\n",
              "      --fill-color: #1967D2;\n",
              "      --hover-bg-color: #E2EBFA;\n",
              "      --hover-fill-color: #174EA6;\n",
              "      --disabled-fill-color: #AAA;\n",
              "      --disabled-bg-color: #DDD;\n",
              "  }\n",
              "\n",
              "  [theme=dark] .colab-df-quickchart {\n",
              "      --bg-color: #3B4455;\n",
              "      --fill-color: #D2E3FC;\n",
              "      --hover-bg-color: #434B5C;\n",
              "      --hover-fill-color: #FFFFFF;\n",
              "      --disabled-bg-color: #3B4455;\n",
              "      --disabled-fill-color: #666;\n",
              "  }\n",
              "\n",
              "  .colab-df-quickchart {\n",
              "    background-color: var(--bg-color);\n",
              "    border: none;\n",
              "    border-radius: 50%;\n",
              "    cursor: pointer;\n",
              "    display: none;\n",
              "    fill: var(--fill-color);\n",
              "    height: 32px;\n",
              "    padding: 0;\n",
              "    width: 32px;\n",
              "  }\n",
              "\n",
              "  .colab-df-quickchart:hover {\n",
              "    background-color: var(--hover-bg-color);\n",
              "    box-shadow: 0 1px 2px rgba(60, 64, 67, 0.3), 0 1px 3px 1px rgba(60, 64, 67, 0.15);\n",
              "    fill: var(--button-hover-fill-color);\n",
              "  }\n",
              "\n",
              "  .colab-df-quickchart-complete:disabled,\n",
              "  .colab-df-quickchart-complete:disabled:hover {\n",
              "    background-color: var(--disabled-bg-color);\n",
              "    fill: var(--disabled-fill-color);\n",
              "    box-shadow: none;\n",
              "  }\n",
              "\n",
              "  .colab-df-spinner {\n",
              "    border: 2px solid var(--fill-color);\n",
              "    border-color: transparent;\n",
              "    border-bottom-color: var(--fill-color);\n",
              "    animation:\n",
              "      spin 1s steps(1) infinite;\n",
              "  }\n",
              "\n",
              "  @keyframes spin {\n",
              "    0% {\n",
              "      border-color: transparent;\n",
              "      border-bottom-color: var(--fill-color);\n",
              "      border-left-color: var(--fill-color);\n",
              "    }\n",
              "    20% {\n",
              "      border-color: transparent;\n",
              "      border-left-color: var(--fill-color);\n",
              "      border-top-color: var(--fill-color);\n",
              "    }\n",
              "    30% {\n",
              "      border-color: transparent;\n",
              "      border-left-color: var(--fill-color);\n",
              "      border-top-color: var(--fill-color);\n",
              "      border-right-color: var(--fill-color);\n",
              "    }\n",
              "    40% {\n",
              "      border-color: transparent;\n",
              "      border-right-color: var(--fill-color);\n",
              "      border-top-color: var(--fill-color);\n",
              "    }\n",
              "    60% {\n",
              "      border-color: transparent;\n",
              "      border-right-color: var(--fill-color);\n",
              "    }\n",
              "    80% {\n",
              "      border-color: transparent;\n",
              "      border-right-color: var(--fill-color);\n",
              "      border-bottom-color: var(--fill-color);\n",
              "    }\n",
              "    90% {\n",
              "      border-color: transparent;\n",
              "      border-bottom-color: var(--fill-color);\n",
              "    }\n",
              "  }\n",
              "</style>\n",
              "\n",
              "  <script>\n",
              "    async function quickchart(key) {\n",
              "      const quickchartButtonEl =\n",
              "        document.querySelector('#' + key + ' button');\n",
              "      quickchartButtonEl.disabled = true;  // To prevent multiple clicks.\n",
              "      quickchartButtonEl.classList.add('colab-df-spinner');\n",
              "      try {\n",
              "        const charts = await google.colab.kernel.invokeFunction(\n",
              "            'suggestCharts', [key], {});\n",
              "      } catch (error) {\n",
              "        console.error('Error during call to suggestCharts:', error);\n",
              "      }\n",
              "      quickchartButtonEl.classList.remove('colab-df-spinner');\n",
              "      quickchartButtonEl.classList.add('colab-df-quickchart-complete');\n",
              "    }\n",
              "    (() => {\n",
              "      let quickchartButtonEl =\n",
              "        document.querySelector('#df-903905f5-0a88-4ffb-aa8e-e5f82a700360 button');\n",
              "      quickchartButtonEl.style.display =\n",
              "        google.colab.kernel.accessAllowed ? 'block' : 'none';\n",
              "    })();\n",
              "  </script>\n",
              "</div>\n",
              "\n",
              "    </div>\n",
              "  </div>\n"
            ],
            "application/vnd.google.colaboratory.intrinsic+json": {
              "type": "dataframe",
              "variable_name": "application_df",
              "summary": "{\n  \"name\": \"application_df\",\n  \"rows\": 34299,\n  \"fields\": [\n    {\n      \"column\": \"EIN\",\n      \"properties\": {\n        \"dtype\": \"number\",\n        \"std\": 245147183,\n        \"min\": 10520599,\n        \"max\": 996086871,\n        \"num_unique_values\": 34299,\n        \"samples\": [\n          271598055,\n          900109768,\n          352562499\n        ],\n        \"semantic_type\": \"\",\n        \"description\": \"\"\n      }\n    },\n    {\n      \"column\": \"NAME\",\n      \"properties\": {\n        \"dtype\": \"string\",\n        \"num_unique_values\": 19568,\n        \"samples\": [\n          \"LOCAL 12 USW GOODYEAR INSTITUTE FORCAREER DEVELOPMENT\",\n          \"INTERNATION ASSOCIATION OF ELECTRICAL INSPECTORS\",\n          \"BRICKLAYERS & ALLIED CRAFTWORKERS LOCAL 13 VACATION FUND\"\n        ],\n        \"semantic_type\": \"\",\n        \"description\": \"\"\n      }\n    },\n    {\n      \"column\": \"APPLICATION_TYPE\",\n      \"properties\": {\n        \"dtype\": \"category\",\n        \"num_unique_values\": 17,\n        \"samples\": [\n          \"T10\",\n          \"T3\",\n          \"T6\"\n        ],\n        \"semantic_type\": \"\",\n        \"description\": \"\"\n      }\n    },\n    {\n      \"column\": \"AFFILIATION\",\n      \"properties\": {\n        \"dtype\": \"category\",\n        \"num_unique_values\": 6,\n        \"samples\": [\n          \"Independent\",\n          \"CompanySponsored\",\n          \"Other\"\n        ],\n        \"semantic_type\": \"\",\n        \"description\": \"\"\n      }\n    },\n    {\n      \"column\": \"CLASSIFICATION\",\n      \"properties\": {\n        \"dtype\": \"category\",\n        \"num_unique_values\": 71,\n        \"samples\": [\n          \"C1500\",\n          \"C1000\",\n          \"C1570\"\n        ],\n        \"semantic_type\": \"\",\n        \"description\": \"\"\n      }\n    },\n    {\n      \"column\": \"USE_CASE\",\n      \"properties\": {\n        \"dtype\": \"category\",\n        \"num_unique_values\": 5,\n        \"samples\": [\n          \"Preservation\",\n          \"Other\",\n          \"Heathcare\"\n        ],\n        \"semantic_type\": \"\",\n        \"description\": \"\"\n      }\n    },\n    {\n      \"column\": \"ORGANIZATION\",\n      \"properties\": {\n        \"dtype\": \"category\",\n        \"num_unique_values\": 4,\n        \"samples\": [\n          \"Co-operative\",\n          \"Corporation\",\n          \"Association\"\n        ],\n        \"semantic_type\": \"\",\n        \"description\": \"\"\n      }\n    },\n    {\n      \"column\": \"STATUS\",\n      \"properties\": {\n        \"dtype\": \"number\",\n        \"std\": 0,\n        \"min\": 0,\n        \"max\": 1,\n        \"num_unique_values\": 2,\n        \"samples\": [\n          0,\n          1\n        ],\n        \"semantic_type\": \"\",\n        \"description\": \"\"\n      }\n    },\n    {\n      \"column\": \"INCOME_AMT\",\n      \"properties\": {\n        \"dtype\": \"category\",\n        \"num_unique_values\": 9,\n        \"samples\": [\n          \"1M-5M\",\n          \"1-9999\"\n        ],\n        \"semantic_type\": \"\",\n        \"description\": \"\"\n      }\n    },\n    {\n      \"column\": \"SPECIAL_CONSIDERATIONS\",\n      \"properties\": {\n        \"dtype\": \"category\",\n        \"num_unique_values\": 2,\n        \"samples\": [\n          \"Y\",\n          \"N\"\n        ],\n        \"semantic_type\": \"\",\n        \"description\": \"\"\n      }\n    },\n    {\n      \"column\": \"ASK_AMT\",\n      \"properties\": {\n        \"dtype\": \"number\",\n        \"std\": 87130452,\n        \"min\": 5000,\n        \"max\": 8597806340,\n        \"num_unique_values\": 8747,\n        \"samples\": [\n          1328927,\n          42942\n        ],\n        \"semantic_type\": \"\",\n        \"description\": \"\"\n      }\n    },\n    {\n      \"column\": \"IS_SUCCESSFUL\",\n      \"properties\": {\n        \"dtype\": \"number\",\n        \"std\": 0,\n        \"min\": 0,\n        \"max\": 1,\n        \"num_unique_values\": 2,\n        \"samples\": [\n          0,\n          1\n        ],\n        \"semantic_type\": \"\",\n        \"description\": \"\"\n      }\n    }\n  ]\n}"
            }
          },
          "metadata": {},
          "execution_count": 1
        }
      ],
      "source": [
        "# Import our dependencies\n",
        "from sklearn.model_selection import train_test_split\n",
        "from sklearn.preprocessing import StandardScaler\n",
        "import pandas as pd\n",
        "import tensorflow as tf\n",
        "\n",
        "#  Import and read the charity_data.csv.\n",
        "import pandas as pd\n",
        "application_df = pd.read_csv(\"https://static.bc-edx.com/data/dl-1-2/m21/lms/starter/charity_data.csv\")\n",
        "application_df.head()"
      ]
    },
    {
      "cell_type": "code",
      "source": [
        "# Drop the non-beneficial ID columns, 'EIN' and 'NAME'.\n",
        "application_df.drop(columns = ['EIN', 'NAME'], inplace = True)"
      ],
      "metadata": {
        "id": "30yanh9MOsl1"
      },
      "execution_count": 2,
      "outputs": []
    },
    {
      "cell_type": "code",
      "source": [
        "# Determine the number of unique values in each column.\n",
        "application_df.nunique()"
      ],
      "metadata": {
        "colab": {
          "base_uri": "https://localhost:8080/"
        },
        "id": "WKzjx9XYOswM",
        "outputId": "fde123fd-04fa-43dc-95aa-cceadff6f4de"
      },
      "execution_count": 3,
      "outputs": [
        {
          "output_type": "execute_result",
          "data": {
            "text/plain": [
              "APPLICATION_TYPE            17\n",
              "AFFILIATION                  6\n",
              "CLASSIFICATION              71\n",
              "USE_CASE                     5\n",
              "ORGANIZATION                 4\n",
              "STATUS                       2\n",
              "INCOME_AMT                   9\n",
              "SPECIAL_CONSIDERATIONS       2\n",
              "ASK_AMT                   8747\n",
              "IS_SUCCESSFUL                2\n",
              "dtype: int64"
            ]
          },
          "metadata": {},
          "execution_count": 3
        }
      ]
    },
    {
      "cell_type": "code",
      "source": [
        "# Look at APPLICATION_TYPE value counts for binning\n",
        "application_df['APPLICATION_TYPE'].value_counts()"
      ],
      "metadata": {
        "colab": {
          "base_uri": "https://localhost:8080/"
        },
        "id": "0nsZz8D5Os1-",
        "outputId": "b2664fca-d4c2-42b1-aa10-603b3f830ff7"
      },
      "execution_count": 4,
      "outputs": [
        {
          "output_type": "execute_result",
          "data": {
            "text/plain": [
              "APPLICATION_TYPE\n",
              "T3     27037\n",
              "T4      1542\n",
              "T6      1216\n",
              "T5      1173\n",
              "T19     1065\n",
              "T8       737\n",
              "T7       725\n",
              "T10      528\n",
              "T9       156\n",
              "T13       66\n",
              "T12       27\n",
              "T2        16\n",
              "T25        3\n",
              "T14        3\n",
              "T29        2\n",
              "T15        2\n",
              "T17        1\n",
              "Name: count, dtype: int64"
            ]
          },
          "metadata": {},
          "execution_count": 4
        }
      ]
    },
    {
      "cell_type": "code",
      "source": [
        "# Choose a cutoff value and create a list of application types to be replaced\n",
        "# use the variable name `application_types_to_replace`\n",
        "application_types_to_replace = ['T8', 'T7', 'T10', 'T9', 'T13', 'T12', 'T2', 'T25', 'T14', 'T29', 'T15', 'T17']\n",
        "\n",
        "# Replace in dataframe\n",
        "for app in application_types_to_replace:\n",
        "    application_df['APPLICATION_TYPE'] = application_df['APPLICATION_TYPE'].replace(app,\"Other\")\n",
        "\n",
        "# Check to make sure binning was successful\n",
        "application_df['APPLICATION_TYPE'].value_counts()"
      ],
      "metadata": {
        "colab": {
          "base_uri": "https://localhost:8080/"
        },
        "id": "pliQAP38Os5Y",
        "outputId": "bf5cf113-3f2b-4618-c3c2-81324f44e2dc"
      },
      "execution_count": 5,
      "outputs": [
        {
          "output_type": "execute_result",
          "data": {
            "text/plain": [
              "APPLICATION_TYPE\n",
              "T3       27037\n",
              "Other     2266\n",
              "T4        1542\n",
              "T6        1216\n",
              "T5        1173\n",
              "T19       1065\n",
              "Name: count, dtype: int64"
            ]
          },
          "metadata": {},
          "execution_count": 5
        }
      ]
    },
    {
      "cell_type": "code",
      "source": [
        "# Look at CLASSIFICATION value counts for binning\n",
        "classification_counts = application_df['CLASSIFICATION'].value_counts()\n",
        "classification_counts"
      ],
      "metadata": {
        "colab": {
          "base_uri": "https://localhost:8080/"
        },
        "id": "X8UHBPBmOs-4",
        "outputId": "4ffbebb9-b8e6-4d1d-fabf-5039274d8dc5"
      },
      "execution_count": 6,
      "outputs": [
        {
          "output_type": "execute_result",
          "data": {
            "text/plain": [
              "CLASSIFICATION\n",
              "C1000    17326\n",
              "C2000     6074\n",
              "C1200     4837\n",
              "C3000     1918\n",
              "C2100     1883\n",
              "         ...  \n",
              "C4120        1\n",
              "C8210        1\n",
              "C2561        1\n",
              "C4500        1\n",
              "C2150        1\n",
              "Name: count, Length: 71, dtype: int64"
            ]
          },
          "metadata": {},
          "execution_count": 6
        }
      ]
    },
    {
      "cell_type": "code",
      "source": [
        "# You may find it helpful to look at CLASSIFICATION value counts >1\n",
        "classifications_more_than_one = classification_counts[classification_counts > 1]\n",
        "classifications_more_than_one"
      ],
      "metadata": {
        "colab": {
          "base_uri": "https://localhost:8080/"
        },
        "id": "O-7fDXQZOtCO",
        "outputId": "8d2643bf-ce63-45d7-eec1-ef95c2dc36dd"
      },
      "execution_count": 7,
      "outputs": [
        {
          "output_type": "execute_result",
          "data": {
            "text/plain": [
              "CLASSIFICATION\n",
              "C1000    17326\n",
              "C2000     6074\n",
              "C1200     4837\n",
              "C3000     1918\n",
              "C2100     1883\n",
              "C7000      777\n",
              "C1700      287\n",
              "C4000      194\n",
              "C5000      116\n",
              "C1270      114\n",
              "C2700      104\n",
              "C2800       95\n",
              "C7100       75\n",
              "C1300       58\n",
              "C1280       50\n",
              "C1230       36\n",
              "C1400       34\n",
              "C7200       32\n",
              "C2300       32\n",
              "C1240       30\n",
              "C8000       20\n",
              "C7120       18\n",
              "C1500       16\n",
              "C1800       15\n",
              "C6000       15\n",
              "C1250       14\n",
              "C8200       11\n",
              "C1238       10\n",
              "C1278       10\n",
              "C1235        9\n",
              "C1237        9\n",
              "C7210        7\n",
              "C2400        6\n",
              "C1720        6\n",
              "C4100        6\n",
              "C1257        5\n",
              "C1600        5\n",
              "C1260        3\n",
              "C2710        3\n",
              "C0           3\n",
              "C3200        2\n",
              "C1234        2\n",
              "C1246        2\n",
              "C1267        2\n",
              "C1256        2\n",
              "Name: count, dtype: int64"
            ]
          },
          "metadata": {},
          "execution_count": 7
        }
      ]
    },
    {
      "cell_type": "code",
      "source": [
        "# Choose a cutoff value and create a list of classifications to be replaced\n",
        "# use the variable name `classifications_to_replace`\n",
        "classifications_to_replace = ['C7000', 'C1700', 'C4000', 'C5000', 'C1270', 'C2700', 'C2800', 'C7100', 'C1300', 'C1280', 'C1230', 'C1400', 'C7200',\n",
        "                              'C2300', 'C1240', 'C8000', 'C7120', 'C1500', 'C1800', 'C6000', 'C1250', 'C8200', 'C1238', 'C1278', 'C1235', 'C1237',\n",
        "                              'C7210', 'C2400', 'C1720', 'C4100', 'C1257', 'C1600', 'C1260', 'C2710', 'C0', 'C3200', 'C1234', 'C1246', 'C1267',\n",
        "                              'C1256', 'C2190', 'C4200', 'C2600', 'C5200', 'C1370', 'C1248', 'C6100', 'C1820', 'C1900', 'C1236', 'C3700', 'C2570',\n",
        "                              'C1580', 'C1245', 'C2500', 'C1570', 'C1283', 'C2380', 'C1732', 'C1728', 'C2170', 'C4120', 'C8210', 'C2561', 'C4500',\n",
        "                              'C2150']\n",
        "\n",
        "# Replace in dataframe\n",
        "for cls in classifications_to_replace:\n",
        "    application_df['CLASSIFICATION'] = application_df['CLASSIFICATION'].replace(cls,\"Other\")\n",
        "\n",
        "# Check to make sure binning was successful\n",
        "application_df['CLASSIFICATION'].value_counts()\n",
        ""
      ],
      "metadata": {
        "colab": {
          "base_uri": "https://localhost:8080/"
        },
        "id": "jF05vWiDOtEN",
        "outputId": "0d576cfa-019a-4c29-e0bd-2b3550f51cfb"
      },
      "execution_count": 8,
      "outputs": [
        {
          "output_type": "execute_result",
          "data": {
            "text/plain": [
              "CLASSIFICATION\n",
              "C1000    17326\n",
              "C2000     6074\n",
              "C1200     4837\n",
              "Other     2261\n",
              "C3000     1918\n",
              "C2100     1883\n",
              "Name: count, dtype: int64"
            ]
          },
          "metadata": {},
          "execution_count": 8
        }
      ]
    },
    {
      "cell_type": "code",
      "source": [
        "# Convert categorical data to numeric with `pd.get_dummies`\n",
        "dummied_df = pd.get_dummies(application_df, ['APPLICATION_TYPE', 'INCOME_AMT', 'AFFILIATION', 'CLASSIFICATION', 'USE_CASE', 'ORGANIZATION', 'SPECIAL_CONSIDERATIONS'])\n"
      ],
      "metadata": {
        "id": "IP6eMcLLOtGT"
      },
      "execution_count": 10,
      "outputs": []
    },
    {
      "cell_type": "code",
      "source": [
        "# Split our preprocessed data into our features and target arrays\n",
        "X = dummied_df.drop(['IS_SUCCESSFUL','SPECIAL_CONSIDERATIONS_N'], axis = 1)\n",
        "y = dummied_df['IS_SUCCESSFUL']\n",
        "\n",
        "from sklearn.decomposition import PCA\n",
        "import numpy as np\n",
        "pca = PCA()\n",
        "X_pca = pca.fit_transform(X)[:,:3]\n",
        "pca.fit_transform(X)\n",
        "print(pca.explained_variance_ratio_)\n",
        "X_pca"
      ],
      "metadata": {
        "colab": {
          "base_uri": "https://localhost:8080/"
        },
        "id": "x-sj5OooOtH4",
        "outputId": "258808e9-7535-4899-d205-19908164e14d"
      },
      "execution_count": 11,
      "outputs": [
        {
          "output_type": "stream",
          "name": "stdout",
          "text": [
            "[1.00000000e+00 1.05350974e-16 5.67673284e-17 3.90727020e-17\n",
            " 3.06988221e-17 2.96946970e-17 2.00926834e-17 1.36118081e-17\n",
            " 1.20944187e-17 8.97701859e-18 7.27623561e-18 6.47794563e-18\n",
            " 5.46155071e-18 5.12981136e-18 4.42885350e-18 3.42336288e-18\n",
            " 3.12854476e-18 2.59831242e-18 2.28623955e-18 2.11806439e-18\n",
            " 1.48654535e-18 1.12589989e-18 7.69786174e-19 6.78298949e-19\n",
            " 4.23329209e-19 3.74460422e-19 2.17457629e-19 1.56236747e-19\n",
            " 1.03442852e-19 6.00570997e-20 1.89763767e-20 1.75543968e-20\n",
            " 1.43626543e-20 9.98401937e-33 9.98401937e-33 9.98401937e-33\n",
            " 9.98401937e-33 9.98401937e-33 9.98401937e-33]\n"
          ]
        },
        {
          "output_type": "execute_result",
          "data": {
            "text/plain": [
              "array([[-2.76419868e+06,  8.32352080e-01,  1.62334042e+00],\n",
              "       [-2.66060868e+06, -4.92148500e-01, -7.86421678e-02],\n",
              "       [-2.76419868e+06,  1.90110932e+00,  6.44828037e-01],\n",
              "       ...,\n",
              "       [-2.76419868e+06,  1.02378867e+00, -8.92105570e-01],\n",
              "       [-2.76419868e+06,  1.00870257e+00,  1.26423791e+00],\n",
              "       [ 3.37309803e+07, -5.86064307e-01,  4.60432391e-01]])"
            ]
          },
          "metadata": {},
          "execution_count": 11
        }
      ]
    },
    {
      "cell_type": "code",
      "source": [
        "# Split the preprocessed data into a training and testing dataset\n",
        "X_train, X_test, y_train, y_test = train_test_split(X_pca, y)"
      ],
      "metadata": {
        "id": "GErP0vKvOtKJ"
      },
      "execution_count": 12,
      "outputs": []
    },
    {
      "cell_type": "code",
      "source": [
        "# Create a StandardScaler instances\n",
        "scaler = StandardScaler()\n",
        "\n",
        "# Fit the StandardScaler\n",
        "X_scaler = scaler.fit(X_train)\n",
        "\n",
        "# Scale the data\n",
        "X_train_scaled = X_scaler.transform(X_train)\n",
        "X_test_scaled = X_scaler.transform(X_test)\n",
        "X_test_scaled.shape\n",
        ""
      ],
      "metadata": {
        "colab": {
          "base_uri": "https://localhost:8080/"
        },
        "id": "wEWYR2LKOtNf",
        "outputId": "94b46c7f-f387-41f5-bf6d-5d9a586846f6"
      },
      "execution_count": 13,
      "outputs": [
        {
          "output_type": "execute_result",
          "data": {
            "text/plain": [
              "(8575, 3)"
            ]
          },
          "metadata": {},
          "execution_count": 13
        }
      ]
    },
    {
      "cell_type": "markdown",
      "source": [
        "Compile, Train and Evaluate the Model"
      ],
      "metadata": {
        "id": "OWSCIfUXPYnk"
      }
    },
    {
      "cell_type": "markdown",
      "source": [
        "Fisrt attempt"
      ],
      "metadata": {
        "id": "oG_0gAiHPemr"
      }
    },
    {
      "cell_type": "code",
      "source": [
        "\n",
        "# Define the model - deep neural net, i.e., the number of input features and hidden nodes for each layer.\n",
        "units_first_layer = 50\n",
        "units_second_layer = 20\n",
        "input_dimensions = len(X_train_scaled[0])\n",
        "nn_model1 = tf.keras.models.Sequential()\n",
        "\n",
        "# Input layer\n",
        "nn_model1.add(tf.keras.layers.Dense(units = units_first_layer, activation = 'relu', input_dim = input_dimensions))\n",
        "\n",
        "# First hidden layer\n",
        "nn_model1.add(tf.keras.layers.Dense(units = units_second_layer, activation = 'relu'))\n",
        "\n",
        "# Output layer\n",
        "nn_model1.add(tf.keras.layers.Dense(units = 1, activation = 'sigmoid'))\n",
        "\n",
        "# Check the structure of the model\n",
        "nn_model1.summary()"
      ],
      "metadata": {
        "colab": {
          "base_uri": "https://localhost:8080/"
        },
        "id": "Lua_omjLOtS0",
        "outputId": "1d78644d-19ba-44d3-ce43-cb396ae4ca2c"
      },
      "execution_count": 14,
      "outputs": [
        {
          "output_type": "stream",
          "name": "stdout",
          "text": [
            "Model: \"sequential\"\n",
            "_________________________________________________________________\n",
            " Layer (type)                Output Shape              Param #   \n",
            "=================================================================\n",
            " dense (Dense)               (None, 50)                200       \n",
            "                                                                 \n",
            " dense_1 (Dense)             (None, 20)                1020      \n",
            "                                                                 \n",
            " dense_2 (Dense)             (None, 1)                 21        \n",
            "                                                                 \n",
            "=================================================================\n",
            "Total params: 1241 (4.85 KB)\n",
            "Trainable params: 1241 (4.85 KB)\n",
            "Non-trainable params: 0 (0.00 Byte)\n",
            "_________________________________________________________________\n"
          ]
        }
      ]
    },
    {
      "cell_type": "code",
      "source": [
        "# Compile the model\n",
        "nn_model1.compile(loss = 'binary_crossentropy', optimizer = 'adam', metrics = ['accuracy'])"
      ],
      "metadata": {
        "id": "3uotIRjfPmW8"
      },
      "execution_count": 15,
      "outputs": []
    },
    {
      "cell_type": "code",
      "source": [
        "# Train the model\n",
        "nn_model1.fit(X_train_scaled, y_train, epochs = 60)"
      ],
      "metadata": {
        "colab": {
          "base_uri": "https://localhost:8080/"
        },
        "id": "ioyo_GOIPmgk",
        "outputId": "c4770b28-0ad3-4777-93aa-f2ac43a77e72"
      },
      "execution_count": 16,
      "outputs": [
        {
          "output_type": "stream",
          "name": "stdout",
          "text": [
            "Epoch 1/60\n",
            "804/804 [==============================] - 5s 3ms/step - loss: 0.6195 - accuracy: 0.6847\n",
            "Epoch 2/60\n",
            "804/804 [==============================] - 2s 2ms/step - loss: 0.6104 - accuracy: 0.6985\n",
            "Epoch 3/60\n",
            "804/804 [==============================] - 2s 2ms/step - loss: 0.6062 - accuracy: 0.7004\n",
            "Epoch 4/60\n",
            "804/804 [==============================] - 2s 2ms/step - loss: 0.6041 - accuracy: 0.7024\n",
            "Epoch 5/60\n",
            "804/804 [==============================] - 2s 2ms/step - loss: 0.6026 - accuracy: 0.7021\n",
            "Epoch 6/60\n",
            "804/804 [==============================] - 3s 4ms/step - loss: 0.6007 - accuracy: 0.7017\n",
            "Epoch 7/60\n",
            "804/804 [==============================] - 5s 7ms/step - loss: 0.6001 - accuracy: 0.7016\n",
            "Epoch 8/60\n",
            "804/804 [==============================] - 4s 5ms/step - loss: 0.5990 - accuracy: 0.7028\n",
            "Epoch 9/60\n",
            "804/804 [==============================] - 4s 5ms/step - loss: 0.5983 - accuracy: 0.7030\n",
            "Epoch 10/60\n",
            "804/804 [==============================] - 6s 7ms/step - loss: 0.5975 - accuracy: 0.7036\n",
            "Epoch 11/60\n",
            "804/804 [==============================] - 4s 4ms/step - loss: 0.5972 - accuracy: 0.7040\n",
            "Epoch 12/60\n",
            "804/804 [==============================] - 3s 3ms/step - loss: 0.5969 - accuracy: 0.7040\n",
            "Epoch 13/60\n",
            "804/804 [==============================] - 2s 3ms/step - loss: 0.5963 - accuracy: 0.7057\n",
            "Epoch 14/60\n",
            "804/804 [==============================] - 2s 3ms/step - loss: 0.5958 - accuracy: 0.7049\n",
            "Epoch 15/60\n",
            "804/804 [==============================] - 1s 2ms/step - loss: 0.5959 - accuracy: 0.7060\n",
            "Epoch 16/60\n",
            "804/804 [==============================] - 1s 2ms/step - loss: 0.5952 - accuracy: 0.7062\n",
            "Epoch 17/60\n",
            "804/804 [==============================] - 1s 2ms/step - loss: 0.5946 - accuracy: 0.7056\n",
            "Epoch 18/60\n",
            "804/804 [==============================] - 2s 2ms/step - loss: 0.5942 - accuracy: 0.7079\n",
            "Epoch 19/60\n",
            "804/804 [==============================] - 1s 2ms/step - loss: 0.5936 - accuracy: 0.7081\n",
            "Epoch 20/60\n",
            "804/804 [==============================] - 2s 2ms/step - loss: 0.5938 - accuracy: 0.7088\n",
            "Epoch 21/60\n",
            "804/804 [==============================] - 2s 2ms/step - loss: 0.5931 - accuracy: 0.7076\n",
            "Epoch 22/60\n",
            "804/804 [==============================] - 3s 4ms/step - loss: 0.5928 - accuracy: 0.7102\n",
            "Epoch 23/60\n",
            "804/804 [==============================] - 2s 3ms/step - loss: 0.5931 - accuracy: 0.7091\n",
            "Epoch 24/60\n",
            "804/804 [==============================] - 2s 2ms/step - loss: 0.5926 - accuracy: 0.7092\n",
            "Epoch 25/60\n",
            "804/804 [==============================] - 2s 3ms/step - loss: 0.5914 - accuracy: 0.7099\n",
            "Epoch 26/60\n",
            "804/804 [==============================] - 4s 5ms/step - loss: 0.5917 - accuracy: 0.7098\n",
            "Epoch 27/60\n",
            "804/804 [==============================] - 4s 5ms/step - loss: 0.5916 - accuracy: 0.7092\n",
            "Epoch 28/60\n",
            "804/804 [==============================] - 3s 3ms/step - loss: 0.5917 - accuracy: 0.7105\n",
            "Epoch 29/60\n",
            "804/804 [==============================] - 2s 3ms/step - loss: 0.5910 - accuracy: 0.7105\n",
            "Epoch 30/60\n",
            "804/804 [==============================] - 3s 3ms/step - loss: 0.5910 - accuracy: 0.7103\n",
            "Epoch 31/60\n",
            "804/804 [==============================] - 2s 2ms/step - loss: 0.5905 - accuracy: 0.7103\n",
            "Epoch 32/60\n",
            "804/804 [==============================] - 2s 3ms/step - loss: 0.5907 - accuracy: 0.7105\n",
            "Epoch 33/60\n",
            "804/804 [==============================] - 2s 3ms/step - loss: 0.5902 - accuracy: 0.7101\n",
            "Epoch 34/60\n",
            "804/804 [==============================] - 2s 3ms/step - loss: 0.5893 - accuracy: 0.7108\n",
            "Epoch 35/60\n",
            "804/804 [==============================] - 3s 4ms/step - loss: 0.5898 - accuracy: 0.7103\n",
            "Epoch 36/60\n",
            "804/804 [==============================] - 2s 2ms/step - loss: 0.5887 - accuracy: 0.7103\n",
            "Epoch 37/60\n",
            "804/804 [==============================] - 2s 2ms/step - loss: 0.5891 - accuracy: 0.7110\n",
            "Epoch 38/60\n",
            "804/804 [==============================] - 3s 3ms/step - loss: 0.5891 - accuracy: 0.7113\n",
            "Epoch 39/60\n",
            "804/804 [==============================] - 2s 3ms/step - loss: 0.5886 - accuracy: 0.7123\n",
            "Epoch 40/60\n",
            "804/804 [==============================] - 2s 2ms/step - loss: 0.5885 - accuracy: 0.7123\n",
            "Epoch 41/60\n",
            "804/804 [==============================] - 3s 4ms/step - loss: 0.5878 - accuracy: 0.7130\n",
            "Epoch 42/60\n",
            "804/804 [==============================] - 3s 4ms/step - loss: 0.5873 - accuracy: 0.7124\n",
            "Epoch 43/60\n",
            "804/804 [==============================] - 3s 3ms/step - loss: 0.5872 - accuracy: 0.7123\n",
            "Epoch 44/60\n",
            "804/804 [==============================] - 3s 3ms/step - loss: 0.5874 - accuracy: 0.7124\n",
            "Epoch 45/60\n",
            "804/804 [==============================] - 3s 4ms/step - loss: 0.5869 - accuracy: 0.7130\n",
            "Epoch 46/60\n",
            "804/804 [==============================] - 2s 3ms/step - loss: 0.5864 - accuracy: 0.7140\n",
            "Epoch 47/60\n",
            "804/804 [==============================] - 4s 5ms/step - loss: 0.5860 - accuracy: 0.7126\n",
            "Epoch 48/60\n",
            "804/804 [==============================] - 3s 4ms/step - loss: 0.5867 - accuracy: 0.7127\n",
            "Epoch 49/60\n",
            "804/804 [==============================] - 2s 2ms/step - loss: 0.5864 - accuracy: 0.7130\n",
            "Epoch 50/60\n",
            "804/804 [==============================] - 2s 2ms/step - loss: 0.5863 - accuracy: 0.7140\n",
            "Epoch 51/60\n",
            "804/804 [==============================] - 2s 2ms/step - loss: 0.5863 - accuracy: 0.7123\n",
            "Epoch 52/60\n",
            "804/804 [==============================] - 2s 3ms/step - loss: 0.5858 - accuracy: 0.7147\n",
            "Epoch 53/60\n",
            "804/804 [==============================] - 4s 5ms/step - loss: 0.5864 - accuracy: 0.7126\n",
            "Epoch 54/60\n",
            "804/804 [==============================] - 2s 2ms/step - loss: 0.5856 - accuracy: 0.7131\n",
            "Epoch 55/60\n",
            "804/804 [==============================] - 1s 2ms/step - loss: 0.5858 - accuracy: 0.7131\n",
            "Epoch 56/60\n",
            "804/804 [==============================] - 2s 3ms/step - loss: 0.5859 - accuracy: 0.7134\n",
            "Epoch 57/60\n",
            "804/804 [==============================] - 3s 3ms/step - loss: 0.5857 - accuracy: 0.7140\n",
            "Epoch 58/60\n",
            "804/804 [==============================] - 2s 2ms/step - loss: 0.5851 - accuracy: 0.7150\n",
            "Epoch 59/60\n",
            "804/804 [==============================] - 4s 4ms/step - loss: 0.5852 - accuracy: 0.7143\n",
            "Epoch 60/60\n",
            "804/804 [==============================] - 3s 4ms/step - loss: 0.5854 - accuracy: 0.7146\n"
          ]
        },
        {
          "output_type": "execute_result",
          "data": {
            "text/plain": [
              "<keras.src.callbacks.History at 0x7b61f83811b0>"
            ]
          },
          "metadata": {},
          "execution_count": 16
        }
      ]
    },
    {
      "cell_type": "code",
      "source": [
        "# Evaluate the model using the test data\n",
        "model_loss, model_accuracy = nn_model1.evaluate(X_test_scaled,y_test,verbose=2)\n",
        "print(f\"Loss: {model_loss}, Accuracy: {model_accuracy}\")\n",
        ""
      ],
      "metadata": {
        "colab": {
          "base_uri": "https://localhost:8080/"
        },
        "id": "dx5K-gg_Pmjv",
        "outputId": "160231a7-9406-4eb3-ca85-1e5ae30c3adc"
      },
      "execution_count": 17,
      "outputs": [
        {
          "output_type": "stream",
          "name": "stdout",
          "text": [
            "268/268 - 0s - loss: 0.5882 - accuracy: 0.7178 - 499ms/epoch - 2ms/step\n",
            "Loss: 0.5881731510162354, Accuracy: 0.7177842855453491\n"
          ]
        }
      ]
    },
    {
      "cell_type": "markdown",
      "source": [
        "Second attempt"
      ],
      "metadata": {
        "id": "L7gJuc8QPwJ7"
      }
    },
    {
      "cell_type": "code",
      "source": [
        "# Define the model - deep neural net, i.e., the number of input features and hidden nodes for each layer.\n",
        "units_first_layer = 30\n",
        "units_second_layer = 20\n",
        "units_third_layer = 10\n",
        "input_dimensions = len(X_train_scaled[0])\n",
        "nn_model2 = tf.keras.models.Sequential()\n",
        "\n",
        "# Input layer\n",
        "nn_model2.add(tf.keras.layers.Dense(units = units_first_layer, activation = 'relu', input_dim = input_dimensions))\n",
        "\n",
        "# First hidden layer\n",
        "nn_model2.add(tf.keras.layers.Dense(units = units_second_layer, activation = 'relu'))\n",
        "\n",
        "# Second hidden layer\n",
        "nn_model2.add(tf.keras.layers.Dense(units = units_third_layer, activation = 'relu'))\n",
        "\n",
        "# Output layer\n",
        "nn_model2.add(tf.keras.layers.Dense(units = 1, activation = 'sigmoid'))\n",
        "\n",
        "# Check the structure of the model\n",
        "nn_model2.summary()"
      ],
      "metadata": {
        "colab": {
          "base_uri": "https://localhost:8080/"
        },
        "id": "WV-bw1pzPmng",
        "outputId": "6aedf0be-6f19-4c03-9fb1-014cb57a5c8e"
      },
      "execution_count": 18,
      "outputs": [
        {
          "output_type": "stream",
          "name": "stdout",
          "text": [
            "Model: \"sequential_1\"\n",
            "_________________________________________________________________\n",
            " Layer (type)                Output Shape              Param #   \n",
            "=================================================================\n",
            " dense_3 (Dense)             (None, 30)                120       \n",
            "                                                                 \n",
            " dense_4 (Dense)             (None, 20)                620       \n",
            "                                                                 \n",
            " dense_5 (Dense)             (None, 10)                210       \n",
            "                                                                 \n",
            " dense_6 (Dense)             (None, 1)                 11        \n",
            "                                                                 \n",
            "=================================================================\n",
            "Total params: 961 (3.75 KB)\n",
            "Trainable params: 961 (3.75 KB)\n",
            "Non-trainable params: 0 (0.00 Byte)\n",
            "_________________________________________________________________\n"
          ]
        }
      ]
    },
    {
      "cell_type": "code",
      "source": [
        "# Compile the model\n",
        "nn_model2.compile(loss = 'binary_crossentropy', optimizer = 'adam', metrics = ['accuracy'])"
      ],
      "metadata": {
        "id": "gT7VO97WPmq4"
      },
      "execution_count": 19,
      "outputs": []
    },
    {
      "cell_type": "code",
      "source": [
        "# Train the model\n",
        "nn_model2.fit(X_train_scaled, y_train, epochs = 60, verbose = 2)"
      ],
      "metadata": {
        "colab": {
          "base_uri": "https://localhost:8080/"
        },
        "id": "sdYMONL4Pmus",
        "outputId": "92ee8a60-8dd3-46ae-fa86-7cb544412ea4"
      },
      "execution_count": 20,
      "outputs": [
        {
          "output_type": "stream",
          "name": "stdout",
          "text": [
            "Epoch 1/60\n",
            "804/804 - 2s - loss: 0.6186 - accuracy: 0.6833 - 2s/epoch - 3ms/step\n",
            "Epoch 2/60\n",
            "804/804 - 1s - loss: 0.6090 - accuracy: 0.6958 - 1s/epoch - 2ms/step\n",
            "Epoch 3/60\n",
            "804/804 - 1s - loss: 0.6056 - accuracy: 0.7007 - 1s/epoch - 2ms/step\n",
            "Epoch 4/60\n",
            "804/804 - 2s - loss: 0.6036 - accuracy: 0.7014 - 2s/epoch - 2ms/step\n",
            "Epoch 5/60\n",
            "804/804 - 2s - loss: 0.6025 - accuracy: 0.7015 - 2s/epoch - 2ms/step\n",
            "Epoch 6/60\n",
            "804/804 - 1s - loss: 0.6010 - accuracy: 0.7032 - 1s/epoch - 2ms/step\n",
            "Epoch 7/60\n",
            "804/804 - 1s - loss: 0.6006 - accuracy: 0.7035 - 1s/epoch - 2ms/step\n",
            "Epoch 8/60\n",
            "804/804 - 1s - loss: 0.5999 - accuracy: 0.7042 - 1s/epoch - 2ms/step\n",
            "Epoch 9/60\n",
            "804/804 - 1s - loss: 0.5991 - accuracy: 0.7040 - 1s/epoch - 2ms/step\n",
            "Epoch 10/60\n",
            "804/804 - 1s - loss: 0.5976 - accuracy: 0.7064 - 1s/epoch - 2ms/step\n",
            "Epoch 11/60\n",
            "804/804 - 1s - loss: 0.5971 - accuracy: 0.7052 - 1s/epoch - 2ms/step\n",
            "Epoch 12/60\n",
            "804/804 - 1s - loss: 0.5959 - accuracy: 0.7075 - 1s/epoch - 2ms/step\n",
            "Epoch 13/60\n",
            "804/804 - 2s - loss: 0.5951 - accuracy: 0.7073 - 2s/epoch - 2ms/step\n",
            "Epoch 14/60\n",
            "804/804 - 2s - loss: 0.5943 - accuracy: 0.7080 - 2s/epoch - 2ms/step\n",
            "Epoch 15/60\n",
            "804/804 - 1s - loss: 0.5937 - accuracy: 0.7082 - 1s/epoch - 2ms/step\n",
            "Epoch 16/60\n",
            "804/804 - 1s - loss: 0.5929 - accuracy: 0.7094 - 1s/epoch - 2ms/step\n",
            "Epoch 17/60\n",
            "804/804 - 1s - loss: 0.5931 - accuracy: 0.7095 - 1s/epoch - 2ms/step\n",
            "Epoch 18/60\n",
            "804/804 - 1s - loss: 0.5920 - accuracy: 0.7094 - 1s/epoch - 2ms/step\n",
            "Epoch 19/60\n",
            "804/804 - 1s - loss: 0.5912 - accuracy: 0.7098 - 1s/epoch - 2ms/step\n",
            "Epoch 20/60\n",
            "804/804 - 1s - loss: 0.5914 - accuracy: 0.7101 - 1s/epoch - 2ms/step\n",
            "Epoch 21/60\n",
            "804/804 - 1s - loss: 0.5903 - accuracy: 0.7117 - 1s/epoch - 2ms/step\n",
            "Epoch 22/60\n",
            "804/804 - 2s - loss: 0.5905 - accuracy: 0.7104 - 2s/epoch - 2ms/step\n",
            "Epoch 23/60\n",
            "804/804 - 2s - loss: 0.5897 - accuracy: 0.7102 - 2s/epoch - 2ms/step\n",
            "Epoch 24/60\n",
            "804/804 - 1s - loss: 0.5896 - accuracy: 0.7105 - 1s/epoch - 2ms/step\n",
            "Epoch 25/60\n",
            "804/804 - 1s - loss: 0.5888 - accuracy: 0.7118 - 1s/epoch - 2ms/step\n",
            "Epoch 26/60\n",
            "804/804 - 1s - loss: 0.5894 - accuracy: 0.7107 - 1s/epoch - 2ms/step\n",
            "Epoch 27/60\n",
            "804/804 - 1s - loss: 0.5884 - accuracy: 0.7117 - 1s/epoch - 2ms/step\n",
            "Epoch 28/60\n",
            "804/804 - 1s - loss: 0.5885 - accuracy: 0.7116 - 1s/epoch - 2ms/step\n",
            "Epoch 29/60\n",
            "804/804 - 1s - loss: 0.5883 - accuracy: 0.7107 - 1s/epoch - 2ms/step\n",
            "Epoch 30/60\n",
            "804/804 - 1s - loss: 0.5882 - accuracy: 0.7108 - 1s/epoch - 2ms/step\n",
            "Epoch 31/60\n",
            "804/804 - 1s - loss: 0.5884 - accuracy: 0.7112 - 1s/epoch - 2ms/step\n",
            "Epoch 32/60\n",
            "804/804 - 2s - loss: 0.5877 - accuracy: 0.7112 - 2s/epoch - 2ms/step\n",
            "Epoch 33/60\n",
            "804/804 - 2s - loss: 0.5874 - accuracy: 0.7108 - 2s/epoch - 2ms/step\n",
            "Epoch 34/60\n",
            "804/804 - 2s - loss: 0.5875 - accuracy: 0.7121 - 2s/epoch - 2ms/step\n",
            "Epoch 35/60\n",
            "804/804 - 1s - loss: 0.5872 - accuracy: 0.7113 - 1s/epoch - 2ms/step\n",
            "Epoch 36/60\n",
            "804/804 - 1s - loss: 0.5875 - accuracy: 0.7121 - 1s/epoch - 2ms/step\n",
            "Epoch 37/60\n",
            "804/804 - 1s - loss: 0.5869 - accuracy: 0.7111 - 1s/epoch - 2ms/step\n",
            "Epoch 38/60\n",
            "804/804 - 1s - loss: 0.5871 - accuracy: 0.7126 - 1s/epoch - 2ms/step\n",
            "Epoch 39/60\n",
            "804/804 - 1s - loss: 0.5871 - accuracy: 0.7117 - 1s/epoch - 2ms/step\n",
            "Epoch 40/60\n",
            "804/804 - 2s - loss: 0.5868 - accuracy: 0.7128 - 2s/epoch - 3ms/step\n",
            "Epoch 41/60\n",
            "804/804 - 1s - loss: 0.5867 - accuracy: 0.7120 - 1s/epoch - 2ms/step\n",
            "Epoch 42/60\n",
            "804/804 - 1s - loss: 0.5868 - accuracy: 0.7117 - 1s/epoch - 2ms/step\n",
            "Epoch 43/60\n",
            "804/804 - 1s - loss: 0.5870 - accuracy: 0.7125 - 1s/epoch - 2ms/step\n",
            "Epoch 44/60\n",
            "804/804 - 1s - loss: 0.5866 - accuracy: 0.7122 - 1s/epoch - 2ms/step\n",
            "Epoch 45/60\n",
            "804/804 - 1s - loss: 0.5864 - accuracy: 0.7127 - 1s/epoch - 2ms/step\n",
            "Epoch 46/60\n",
            "804/804 - 1s - loss: 0.5867 - accuracy: 0.7120 - 1s/epoch - 2ms/step\n",
            "Epoch 47/60\n",
            "804/804 - 1s - loss: 0.5863 - accuracy: 0.7126 - 1s/epoch - 2ms/step\n",
            "Epoch 48/60\n",
            "804/804 - 1s - loss: 0.5861 - accuracy: 0.7130 - 1s/epoch - 2ms/step\n",
            "Epoch 49/60\n",
            "804/804 - 2s - loss: 0.5862 - accuracy: 0.7119 - 2s/epoch - 2ms/step\n",
            "Epoch 50/60\n",
            "804/804 - 2s - loss: 0.5864 - accuracy: 0.7117 - 2s/epoch - 2ms/step\n",
            "Epoch 51/60\n",
            "804/804 - 1s - loss: 0.5858 - accuracy: 0.7128 - 1s/epoch - 2ms/step\n",
            "Epoch 52/60\n",
            "804/804 - 1s - loss: 0.5862 - accuracy: 0.7119 - 1s/epoch - 2ms/step\n",
            "Epoch 53/60\n",
            "804/804 - 1s - loss: 0.5854 - accuracy: 0.7123 - 1s/epoch - 2ms/step\n",
            "Epoch 54/60\n",
            "804/804 - 1s - loss: 0.5859 - accuracy: 0.7128 - 1s/epoch - 2ms/step\n",
            "Epoch 55/60\n",
            "804/804 - 1s - loss: 0.5860 - accuracy: 0.7129 - 1s/epoch - 2ms/step\n",
            "Epoch 56/60\n",
            "804/804 - 1s - loss: 0.5851 - accuracy: 0.7124 - 1s/epoch - 2ms/step\n",
            "Epoch 57/60\n",
            "804/804 - 1s - loss: 0.5857 - accuracy: 0.7140 - 1s/epoch - 2ms/step\n",
            "Epoch 58/60\n",
            "804/804 - 2s - loss: 0.5855 - accuracy: 0.7131 - 2s/epoch - 2ms/step\n",
            "Epoch 59/60\n",
            "804/804 - 2s - loss: 0.5849 - accuracy: 0.7125 - 2s/epoch - 2ms/step\n",
            "Epoch 60/60\n",
            "804/804 - 1s - loss: 0.5848 - accuracy: 0.7120 - 1s/epoch - 2ms/step\n"
          ]
        },
        {
          "output_type": "execute_result",
          "data": {
            "text/plain": [
              "<keras.src.callbacks.History at 0x7b61585e6f80>"
            ]
          },
          "metadata": {},
          "execution_count": 20
        }
      ]
    },
    {
      "cell_type": "code",
      "source": [
        "# Evaluate the model using the test data\n",
        "model_loss, model_accuracy = nn_model2.evaluate(X_test_scaled,y_test,verbose=2)\n",
        "print(f\"Loss: {model_loss}, Accuracy: {model_accuracy}\")\n",
        ""
      ],
      "metadata": {
        "colab": {
          "base_uri": "https://localhost:8080/"
        },
        "id": "8_CnnfiwP_Sp",
        "outputId": "c258081a-4062-4b92-8195-13e331cc28eb"
      },
      "execution_count": 21,
      "outputs": [
        {
          "output_type": "stream",
          "name": "stdout",
          "text": [
            "268/268 - 0s - loss: 0.5883 - accuracy: 0.7109 - 479ms/epoch - 2ms/step\n",
            "Loss: 0.5883274078369141, Accuracy: 0.7109037637710571\n"
          ]
        }
      ]
    },
    {
      "cell_type": "markdown",
      "source": [
        "Third attempt"
      ],
      "metadata": {
        "id": "QSFqFbgQQCB-"
      }
    },
    {
      "cell_type": "code",
      "source": [
        "# Split the preprocessed data into a training and testing dataset\n",
        "X_train, X_test, y_train, y_test = train_test_split(X, y)"
      ],
      "metadata": {
        "id": "QbbDLjo5P_cW"
      },
      "execution_count": 22,
      "outputs": []
    },
    {
      "cell_type": "code",
      "source": [
        "# Create a StandardScaler instances\n",
        "scaler = StandardScaler()\n",
        "\n",
        "# Fit the StandardScaler\n",
        "X_scaler = scaler.fit(X_train)\n",
        "\n",
        "# Scale the data\n",
        "X_train_scaled = X_scaler.transform(X_train)\n",
        "X_test_scaled = X_scaler.transform(X_test)\n",
        "X_test_scaled.shape"
      ],
      "metadata": {
        "colab": {
          "base_uri": "https://localhost:8080/"
        },
        "id": "xl9WIoY5P_gM",
        "outputId": "38d752d2-8956-452e-a48f-7f0a551ea426"
      },
      "execution_count": 23,
      "outputs": [
        {
          "output_type": "execute_result",
          "data": {
            "text/plain": [
              "(8575, 39)"
            ]
          },
          "metadata": {},
          "execution_count": 23
        }
      ]
    },
    {
      "cell_type": "code",
      "source": [
        "def create_model(hp):\n",
        "    nn_model = tf.keras.models.Sequential()\n",
        "\n",
        "    # Allow kerastuner to decide which activation function to use in hidden layers\n",
        "    activation = hp.Choice('activation',['relu','tanh','sigmoid'])\n",
        "\n",
        "    # Use the input shape from the data\n",
        "    nn_model.add(tf.keras.layers.Dense(units=hp.Int('first_units',\n",
        "        min_value=1,\n",
        "        max_value=10,\n",
        "        step=2), activation=activation, input_dim=X_train_scaled.shape[1]))\n",
        "\n",
        "    # Allow kerastuner to decide number of hidden layers and neurons in hidden layers\n",
        "    for i in range(hp.Int('num_layers', 1, 6)):\n",
        "        nn_model.add(tf.keras.layers.Dense(units=hp.Int('units_' + str(i),\n",
        "            min_value=1,\n",
        "            max_value=10,\n",
        "            step=2),\n",
        "            activation=activation))\n",
        "\n",
        "    nn_model.add(tf.keras.layers.Dense(units=1, activation=\"sigmoid\"))\n",
        "\n",
        "    # Compile the model\n",
        "    nn_model.compile(loss=\"binary_crossentropy\", optimizer='adam', metrics=[\"accuracy\"])\n",
        "\n",
        "    return nn_model\n",
        ""
      ],
      "metadata": {
        "id": "LJ-5DOEKP_ie"
      },
      "execution_count": 25,
      "outputs": []
    },
    {
      "cell_type": "code",
      "source": [
        "pip install keras-tuner\n"
      ],
      "metadata": {
        "colab": {
          "base_uri": "https://localhost:8080/"
        },
        "id": "8kWmB9IGRZTD",
        "outputId": "69177fd9-19c5-434b-df48-f769fe1dd14b"
      },
      "execution_count": 29,
      "outputs": [
        {
          "output_type": "stream",
          "name": "stdout",
          "text": [
            "Collecting keras-tuner\n",
            "  Downloading keras_tuner-1.4.7-py3-none-any.whl (129 kB)\n",
            "\u001b[?25l     \u001b[90m━━━━━━━━━━━━━━━━━━━━━━━━━━━━━━━━━━━━━━━━\u001b[0m \u001b[32m0.0/129.1 kB\u001b[0m \u001b[31m?\u001b[0m eta \u001b[36m-:--:--\u001b[0m\r\u001b[2K     \u001b[91m━━━━━━━━━━━━━━━━━━━━━━━━━━━━━━━━━━━━━━\u001b[0m\u001b[90m╺\u001b[0m\u001b[90m━\u001b[0m \u001b[32m122.9/129.1 kB\u001b[0m \u001b[31m3.8 MB/s\u001b[0m eta \u001b[36m0:00:01\u001b[0m\r\u001b[2K     \u001b[90m━━━━━━━━━━━━━━━━━━━━━━━━━━━━━━━━━━━━━━━━\u001b[0m \u001b[32m129.1/129.1 kB\u001b[0m \u001b[31m3.0 MB/s\u001b[0m eta \u001b[36m0:00:00\u001b[0m\n",
            "\u001b[?25hRequirement already satisfied: keras in /usr/local/lib/python3.10/dist-packages (from keras-tuner) (2.15.0)\n",
            "Requirement already satisfied: packaging in /usr/local/lib/python3.10/dist-packages (from keras-tuner) (24.0)\n",
            "Requirement already satisfied: requests in /usr/local/lib/python3.10/dist-packages (from keras-tuner) (2.31.0)\n",
            "Collecting kt-legacy (from keras-tuner)\n",
            "  Downloading kt_legacy-1.0.5-py3-none-any.whl (9.6 kB)\n",
            "Requirement already satisfied: charset-normalizer<4,>=2 in /usr/local/lib/python3.10/dist-packages (from requests->keras-tuner) (3.3.2)\n",
            "Requirement already satisfied: idna<4,>=2.5 in /usr/local/lib/python3.10/dist-packages (from requests->keras-tuner) (3.7)\n",
            "Requirement already satisfied: urllib3<3,>=1.21.1 in /usr/local/lib/python3.10/dist-packages (from requests->keras-tuner) (2.0.7)\n",
            "Requirement already satisfied: certifi>=2017.4.17 in /usr/local/lib/python3.10/dist-packages (from requests->keras-tuner) (2024.2.2)\n",
            "Installing collected packages: kt-legacy, keras-tuner\n",
            "Successfully installed keras-tuner-1.4.7 kt-legacy-1.0.5\n"
          ]
        }
      ]
    },
    {
      "cell_type": "code",
      "source": [
        "# Import the kerastuner library\n",
        "import keras_tuner as kt\n",
        "\n",
        "# Initialize kerastuner\n",
        "tuner = kt.Hyperband(\n",
        "    create_model,\n",
        "    objective=\"val_accuracy\",\n",
        "    max_epochs=20,\n",
        "    hyperband_iterations=2)"
      ],
      "metadata": {
        "id": "917WDAxlP_mG"
      },
      "execution_count": 30,
      "outputs": []
    },
    {
      "cell_type": "code",
      "source": [
        "\n",
        "# Run the kerastuner search for best hyperparameters\n",
        "tuner.search(x=X_train_scaled, y=y_train, epochs=20, validation_data=(X_test_scaled,y_test), batch_size=32)"
      ],
      "metadata": {
        "colab": {
          "base_uri": "https://localhost:8080/"
        },
        "id": "8LeSWsb3P_oC",
        "outputId": "f6bc01c9-2a92-45e5-e938-76af71886f41"
      },
      "execution_count": 31,
      "outputs": [
        {
          "output_type": "stream",
          "name": "stdout",
          "text": [
            "Trial 60 Complete [00h 01m 24s]\n",
            "val_accuracy: 0.7300291657447815\n",
            "\n",
            "Best val_accuracy So Far: 0.7330612540245056\n",
            "Total elapsed time: 00h 24m 40s\n"
          ]
        }
      ]
    },
    {
      "cell_type": "code",
      "source": [
        "\n",
        "# Get best model hyperparameters\n",
        "best_hyper = tuner.get_best_hyperparameters(1)[0]\n",
        "best_hyper.values"
      ],
      "metadata": {
        "colab": {
          "base_uri": "https://localhost:8080/"
        },
        "id": "YTSppSlCP_rS",
        "outputId": "06c564a3-0c2e-42f4-c42e-9c6068329846"
      },
      "execution_count": 32,
      "outputs": [
        {
          "output_type": "execute_result",
          "data": {
            "text/plain": [
              "{'activation': 'sigmoid',\n",
              " 'first_units': 3,\n",
              " 'num_layers': 2,\n",
              " 'units_0': 7,\n",
              " 'units_1': 5,\n",
              " 'units_2': 1,\n",
              " 'units_3': 5,\n",
              " 'units_4': 1,\n",
              " 'units_5': 1,\n",
              " 'tuner/epochs': 20,\n",
              " 'tuner/initial_epoch': 0,\n",
              " 'tuner/bracket': 0,\n",
              " 'tuner/round': 0}"
            ]
          },
          "metadata": {},
          "execution_count": 32
        }
      ]
    },
    {
      "cell_type": "code",
      "source": [
        "\n",
        "# Evaluate best model against full test data\n",
        "nn_model3 = tuner.get_best_models(1)[0]\n",
        "model_loss, model_accuracy = nn_model3.evaluate(X_test_scaled,y_test,verbose=2)\n",
        "print(f\"Loss: {model_loss}, Accuracy: {model_accuracy}\")"
      ],
      "metadata": {
        "colab": {
          "base_uri": "https://localhost:8080/"
        },
        "id": "-HPnAn08QRv_",
        "outputId": "505e2598-4fdb-4949-b511-f26de46e965e"
      },
      "execution_count": 33,
      "outputs": [
        {
          "output_type": "stream",
          "name": "stdout",
          "text": [
            "268/268 - 1s - loss: 0.5702 - accuracy: 0.7331 - 545ms/epoch - 2ms/step\n",
            "Loss: 0.5701579451560974, Accuracy: 0.7330612540245056\n"
          ]
        }
      ]
    },
    {
      "cell_type": "code",
      "source": [],
      "metadata": {
        "id": "FE09rIrGQRz4"
      },
      "execution_count": null,
      "outputs": []
    }
  ]
}